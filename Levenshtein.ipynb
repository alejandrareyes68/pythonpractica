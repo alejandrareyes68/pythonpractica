{
 "cells": [
  {
   "cell_type": "markdown",
   "id": "17961e01-d5e6-4518-86be-6de1f7de9b80",
   "metadata": {},
   "source": [
    "levenshtein is a metric measuaring the difference between two strings.\n",
    "What does it mean? find the number of edits:\n",
    "1. remove\n",
    "2. insert a caracter at a given position\n",
    "3. Insert a caracter."
   ]
  },
  {
   "cell_type": "code",
   "execution_count": 3,
   "id": "9cd6d3b8-323e-40b0-881e-40e645af128e",
   "metadata": {},
   "outputs": [
    {
     "name": "stdout",
     "output_type": "stream",
     "text": [
      "6\n",
      "5\n"
     ]
    }
   ],
   "source": [
    "def levenshtein(a,b):\n",
    "    if not a:\n",
    "        return len(b)\n",
    "    if not b:\n",
    "        return len(a)\n",
    "    return min(\n",
    "           levenshtein(a[1:], b[1:] + (a[0] != b[0]), #Case 1: Repleace on first character\n",
    "           levenshtein(a[1:], b) + 1, #Case 2: Remove first character\n",
    "            levenshtein(a,b[1:])+ 1 #Case 3: Insert first character\n",
    "                      )\n",
    "\n",
    "        \n",
    "print(levenshtein('','chello'))\n",
    "\n",
    "\n",
    "print(levenshtein('cat','chello'))"
   ]
  },
  {
   "cell_type": "markdown",
   "id": "368e3bd6-e5ee-42a6-bbf4-a353d0253674",
   "metadata": {},
   "source": [
    "Case 1: check if the first characters are equal, if they are the same you add 0, if not, you add 1, so the lenght is longer.\n",
    "\n",
    "Case 2: by removing first character, we simplify the problem and go one step further for the solution.\n",
    "We have reduce the problem."
   ]
  }
 ],
 "metadata": {
  "kernelspec": {
   "display_name": "Python 3 (ipykernel)",
   "language": "python",
   "name": "python3"
  },
  "language_info": {
   "codemirror_mode": {
    "name": "ipython",
    "version": 3
   },
   "file_extension": ".py",
   "mimetype": "text/x-python",
   "name": "python",
   "nbconvert_exporter": "python",
   "pygments_lexer": "ipython3",
   "version": "3.9.13"
  }
 },
 "nbformat": 4,
 "nbformat_minor": 5
}
