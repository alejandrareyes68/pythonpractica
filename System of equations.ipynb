{
 "cells": [
  {
   "cell_type": "code",
   "execution_count": 1,
   "id": "6986164f",
   "metadata": {},
   "outputs": [],
   "source": [
    "import numpy as np"
   ]
  },
  {
   "cell_type": "code",
   "execution_count": 3,
   "id": "9e1d4b20",
   "metadata": {},
   "outputs": [],
   "source": [
    "A1 = np.array([[2,1,1], [1,3,2],[2,1,2]])\n",
    "B = np.array ([180, 300, 240])"
   ]
  },
  {
   "cell_type": "code",
   "execution_count": 5,
   "id": "d2f0c465",
   "metadata": {},
   "outputs": [
    {
     "data": {
      "text/plain": [
       "array([36., 48., 60.])"
      ]
     },
     "execution_count": 5,
     "metadata": {},
     "output_type": "execute_result"
    }
   ],
   "source": [
    "x = np.linalg.solve(A1,B)\n",
    "x"
   ]
  },
  {
   "cell_type": "code",
   "execution_count": 6,
   "id": "5ed9a7cc",
   "metadata": {},
   "outputs": [],
   "source": [
    "a = np.array([[2, 4, 5], [6,9,8],[4.1,5,3]])\n",
    "b = np.array([220,490,274])"
   ]
  },
  {
   "cell_type": "code",
   "execution_count": 8,
   "id": "8a04fa2e",
   "metadata": {},
   "outputs": [
    {
     "data": {
      "text/plain": [
       "array([40., 10., 20.])"
      ]
     },
     "execution_count": 8,
     "metadata": {},
     "output_type": "execute_result"
    }
   ],
   "source": [
    "c = np.linalg.solve(a,b)\n",
    "c"
   ]
  },
  {
   "cell_type": "code",
   "execution_count": 9,
   "id": "ea12aeb9",
   "metadata": {},
   "outputs": [],
   "source": [
    "a1 = np.array([[2, 4, 5], [6,9,8],[4.2,5,3]])\n",
    "b = np.array([220,490,274])"
   ]
  },
  {
   "cell_type": "code",
   "execution_count": 11,
   "id": "6be9298a",
   "metadata": {},
   "outputs": [
    {
     "data": {
      "text/plain": [
       "array([20.        , 31.53846154, 10.76923077])"
      ]
     },
     "execution_count": 11,
     "metadata": {},
     "output_type": "execute_result"
    }
   ],
   "source": [
    "c1 = np.linalg.solve(a1,b)\n",
    "c1"
   ]
  },
  {
   "cell_type": "code",
   "execution_count": 15,
   "id": "516a013d",
   "metadata": {},
   "outputs": [],
   "source": [
    "A = np.array([[1,1,1], [0,2,5],[2,5,-1]])\n",
    "B = np.array([[6],[-4],[27]])"
   ]
  },
  {
   "cell_type": "code",
   "execution_count": 17,
   "id": "2bc8ad69",
   "metadata": {},
   "outputs": [
    {
     "data": {
      "text/plain": [
       "array([[ 5.],\n",
       "       [ 3.],\n",
       "       [-2.]])"
      ]
     },
     "execution_count": 17,
     "metadata": {},
     "output_type": "execute_result"
    }
   ],
   "source": [
    "X = np.dot(np.linalg.inv(A),B)\n",
    "X"
   ]
  },
  {
   "cell_type": "code",
   "execution_count": 19,
   "id": "e2f6fc44",
   "metadata": {},
   "outputs": [
    {
     "data": {
      "text/plain": [
       "array([[ 5.],\n",
       "       [ 3.],\n",
       "       [-2.]])"
      ]
     },
     "execution_count": 19,
     "metadata": {},
     "output_type": "execute_result"
    }
   ],
   "source": [
    "X1 = np.linalg.solve(A,B)\n",
    "X1"
   ]
  },
  {
   "cell_type": "markdown",
   "id": "cb47e9dd",
   "metadata": {},
   "source": [
    "# # Infinite solutions\n",
    "https://www.youtube.com/watch?v=jTCCgxUXhW4"
   ]
  },
  {
   "cell_type": "markdown",
   "id": "f62c6929",
   "metadata": {},
   "source": [
    "if it is consistent has infinite solutions:\n",
    "\n",
    "x - y + z = 2\n",
    "3x - y + 2z = -6\n",
    "3x +y +z = -18"
   ]
  },
  {
   "cell_type": "markdown",
   "id": "8abc8941",
   "metadata": {},
   "source": [
    "# Nonlinear equations "
   ]
  },
  {
   "cell_type": "markdown",
   "id": "4fc16472",
   "metadata": {},
   "source": [
    "x^2 + y = 5\n",
    "\n",
    "x^2 + y^2 = 7"
   ]
  },
  {
   "cell_type": "markdown",
   "id": "a1f46cac",
   "metadata": {},
   "source": [
    "1. Using matplotlib to make a graph"
   ]
  },
  {
   "cell_type": "code",
   "execution_count": 20,
   "id": "561dc647",
   "metadata": {},
   "outputs": [],
   "source": [
    "import matplotlib.pyplot as plt"
   ]
  },
  {
   "cell_type": "code",
   "execution_count": 25,
   "id": "91feebee",
   "metadata": {},
   "outputs": [
    {
     "data": {
      "image/png": "[encoded data removed]",
      "text/plain": [
       "<Figure size 500x500 with 1 Axes>"
      ]
     },
     "metadata": {},
     "output_type": "display_data"
    }
   ],
   "source": [
    "fig = plt.figure (1, figsize=(5,5))\n",
    "delta = 0.025\n",
    "x,y = np.meshgrid(np.arange(-4,4.1,delta),np.arange(-4,4.1,delta))\n",
    "f1 = x**2 + y-5\n",
    "f2 = x**2 + y**2 - 7\n",
    "\n",
    "plt.contour(x,y,f1,[0])\n",
    "plt.contour(x,y,f2,[0])\n",
    "plt.show()"
   ]
  },
  {
   "cell_type": "markdown",
   "id": "c32c089b",
   "metadata": {},
   "source": [
    "2. using fsolve!"
   ]
  },
  {
   "cell_type": "code",
   "execution_count": 27,
   "id": "31867db4",
   "metadata": {},
   "outputs": [
    {
     "name": "stderr",
     "output_type": "stream",
     "text": [
      "/Users/alejandrareyes/opt/anaconda3/lib/python3.9/site-packages/scipy/__init__.py:155: UserWarning: A NumPy version >=1.18.5 and <1.25.0 is required for this version of SciPy (detected version 1.26.0\n",
      "  warnings.warn(f\"A NumPy version >={np_minversion} and <{np_maxversion}\"\n"
     ]
    }
   ],
   "source": [
    "from scipy.optimize import fsolve"
   ]
  },
  {
   "cell_type": "code",
   "execution_count": 29,
   "id": "95f84b0c",
   "metadata": {},
   "outputs": [
    {
     "data": {
      "text/plain": [
       "array([1.73205081, 2.        ])"
      ]
     },
     "execution_count": 29,
     "metadata": {},
     "output_type": "execute_result"
    }
   ],
   "source": [
    "def my_function(z):\n",
    "    x = z[0]\n",
    "    y=z[1]\n",
    "    z=[2]\n",
    "    F = np.empty(2)\n",
    "    F[0] = x**2 + y - 5\n",
    "    F[1] = x**2+y**2-7\n",
    "    return F\n",
    "\n",
    "zGuess = np.array([1,1])\n",
    "z = fsolve(my_function, zGuess)\n",
    "z"
   ]
  },
  {
   "cell_type": "markdown",
   "id": "b17a1eaa",
   "metadata": {},
   "source": [
    "3. Geko"
   ]
  },
  {
   "cell_type": "code",
   "execution_count": 32,
   "id": "aa68368d",
   "metadata": {},
   "outputs": [
    {
     "name": "stdout",
     "output_type": "stream",
     "text": [
      "Collecting gekko\n",
      "  Downloading gekko-1.0.6-py3-none-any.whl (12.2 MB)\n",
      "\u001b[2K     \u001b[90m━━━━━━━━━━━━━━━━━━━━━━━━━━━━━━━━━━━━━━━━\u001b[0m \u001b[32m12.2/12.2 MB\u001b[0m \u001b[31m4.6 MB/s\u001b[0m eta \u001b[36m0:00:00\u001b[0m00:01\u001b[0m00:01\u001b[0m\n",
      "\u001b[?25hRequirement already satisfied: numpy>=1.8 in ./opt/anaconda3/lib/python3.9/site-packages (from gekko) (1.26.0)\n",
      "Installing collected packages: gekko\n",
      "Successfully installed gekko-1.0.6\n",
      "[1.7320508074] [2.0000000007]\n"
     ]
    }
   ],
   "source": [
    "!pip install gekko\n"
   ]
  },
  {
   "cell_type": "code",
   "execution_count": 33,
   "id": "e168e6c2",
   "metadata": {},
   "outputs": [
    {
     "name": "stdout",
     "output_type": "stream",
     "text": [
      "[1.7320508074] [2.0000000007]\n"
     ]
    }
   ],
   "source": [
    "from gekko import GEKKO\n",
    "m = GEKKO()\n",
    "x,y = [m.Var(1) for i in range (2)]\n",
    "m.Equations([x**2+y==5,\\\n",
    "            x**2+y**2==7])\n",
    "m.solve(disp=False)\n",
    "print(x.value, y.value)"
   ]
  },
  {
   "cell_type": "markdown",
   "id": "d031b351",
   "metadata": {},
   "source": [
    "4. Sympy as sym: returns multiple roots"
   ]
  },
  {
   "cell_type": "code",
   "execution_count": 35,
   "id": "bcfd7b2e",
   "metadata": {},
   "outputs": [
    {
     "name": "stdout",
     "output_type": "stream",
     "text": [
      "[(-sqrt(3), 2), (sqrt(3), 2), (-sqrt(6), -1), (sqrt(6), -1)]\n"
     ]
    }
   ],
   "source": [
    "import sympy as sym\n",
    "sym.init_printing()\n",
    "x, y = sym.symbols('x,y')\n",
    "f = sym.Eq(x**2+y,5)\n",
    "g = sym.Eq(x**2+y**2,7)\n",
    "print(sym.solve([f,g],(x,y)))\n"
   ]
  },
  {
   "cell_type": "code",
   "execution_count": 37,
   "id": "ccf08075",
   "metadata": {},
   "outputs": [
    {
     "name": "stdout",
     "output_type": "stream",
     "text": [
      "{a: 20.0000000000000, b: 31.5384615384615, c: 10.7692307692308}\n"
     ]
    }
   ],
   "source": [
    "import sympy as sym\n",
    "sym.init_printing()\n",
    "a, b, c = sym.symbols('a,b,c')\n",
    "f1 = sym.Eq(2*a+4*b+5*c,220)\n",
    "f2 = sym.Eq(6*a+9*b+8*c,490)\n",
    "f3 = sym.Eq(4.2*a+5*b+3*c,274)\n",
    "\n",
    "print(sym.solve([f1,f2,f3],(a,b,c)))"
   ]
  },
  {
   "cell_type": "code",
   "execution_count": null,
   "id": "62be8466",
   "metadata": {},
   "outputs": [],
   "source": []
  },
  {
   "cell_type": "markdown",
   "id": "ca47ad10",
   "metadata": {},
   "source": [
    "identificar cota superior"
   ]
  },
  {
   "cell_type": "markdown",
   "id": "86ace80e",
   "metadata": {},
   "source": []
  }
 ],
 "metadata": {
  "kernelspec": {
   "display_name": "Python 3 (ipykernel)",
   "language": "python",
   "name": "python3"
  },
  "language_info": {
   "codemirror_mode": {
    "name": "ipython",
    "version": 3
   },
   "file_extension": ".py",
   "mimetype": "text/x-python",
   "name": "python",
   "nbconvert_exporter": "python",
   "pygments_lexer": "ipython3",
   "version": "3.9.13"
  }
 },
 "nbformat": 4,
 "nbformat_minor": 5
}
