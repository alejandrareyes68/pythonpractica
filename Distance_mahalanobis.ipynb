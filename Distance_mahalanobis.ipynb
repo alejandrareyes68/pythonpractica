{
 "cells": [
  {
   "cell_type": "code",
   "execution_count": 60,
   "id": "05496f45",
   "metadata": {},
   "outputs": [],
   "source": [
    "import numpy as np"
   ]
  },
  {
   "cell_type": "code",
   "execution_count": 73,
   "id": "5a98adf3",
   "metadata": {},
   "outputs": [
    {
     "name": "stdout",
     "output_type": "stream",
     "text": [
      "Mean:  [  2.8 260.   17. ]\n"
     ]
    }
   ],
   "source": [
    "data = np.array([[1,100,10],\n",
    "                [2,300,15],\n",
    "                [4,200,20],\n",
    "                [2,600,10],\n",
    "                [5,100,30]])\n",
    "\n",
    "x = np.array([[154,900,80]])\n",
    "m = np.mean(data, axis = 0)\n",
    "print('Mean: ',m)"
   ]
  },
  {
   "cell_type": "code",
   "execution_count": 74,
   "id": "690b748b",
   "metadata": {},
   "outputs": [
    {
     "name": "stdout",
     "output_type": "stream",
     "text": [
      "the difference with mean xMn:  [[151.2 640.   63. ]]\n"
     ]
    }
   ],
   "source": [
    "xMm = x - m\n",
    "print('the difference with mean xMn: ',xMm)"
   ]
  },
  {
   "cell_type": "code",
   "execution_count": 75,
   "id": "c9f58488",
   "metadata": {},
   "outputs": [
    {
     "name": "stdout",
     "output_type": "stream",
     "text": [
      "Covariance matrix of data:\n",
      " [[    2.7  -110.     13. ]\n",
      " [ -110.  43000.   -900. ]\n",
      " [   13.   -900.     70. ]]\n",
      "Inv covariance matrix of data:\n",
      " [[ 5.5     -0.01    -1.15   ]\n",
      " [-0.01     0.00005  0.0025 ]\n",
      " [-1.15     0.0025   0.26   ]]\n"
     ]
    }
   ],
   "source": [
    "dataT = np.transpose(data)\n",
    "covM= np.cov(dataT, bias = False)\n",
    "invCovM = np.linalg.inv(covM)\n",
    "\n",
    "np.set_printoptions(suppress=True)\n",
    "print('Covariance matrix of data:\\n', covM)\n",
    "print('Inv covariance matrix of data:\\n',invCovM)"
   ]
  },
  {
   "cell_type": "code",
   "execution_count": 76,
   "id": "c33a07eb",
   "metadata": {},
   "outputs": [
    {
     "name": "stdout",
     "output_type": "stream",
     "text": [
      "[[ 752.75     -1.3225 -155.9   ]]\n",
      "[[103147.7]]\n"
     ]
    }
   ],
   "source": [
    "tem1 = np.dot(xMm, invCovM)\n",
    "tem2 = np.dot(tem1, np.transpose(xMm))\n",
    "print(tem1)\n",
    "print(tem2)\n",
    "MD = np.sqrt(tem2)"
   ]
  },
  {
   "cell_type": "code",
   "execution_count": 77,
   "id": "e720f8a4",
   "metadata": {},
   "outputs": [
    {
     "name": "stdout",
     "output_type": "stream",
     "text": [
      "The Mahalanobish distance:  [321.16615637]\n"
     ]
    }
   ],
   "source": [
    "print('The Mahalanobish distance: ',np.reshape(MD, -1))"
   ]
  }
 ],
 "metadata": {
  "kernelspec": {
   "display_name": "Python 3 (ipykernel)",
   "language": "python",
   "name": "python3"
  },
  "language_info": {
   "codemirror_mode": {
    "name": "ipython",
    "version": 3
   },
   "file_extension": ".py",
   "mimetype": "text/x-python",
   "name": "python",
   "nbconvert_exporter": "python",
   "pygments_lexer": "ipython3",
   "version": "3.9.13"
  }
 },
 "nbformat": 4,
 "nbformat_minor": 5
}
