{
 "cells": [
  {
   "cell_type": "markdown",
   "id": "238519dc",
   "metadata": {},
   "source": [
    "Computar la norma y el número de condición de Frobenius"
   ]
  },
  {
   "cell_type": "code",
   "execution_count": 5,
   "id": "e0cd646c",
   "metadata": {},
   "outputs": [],
   "source": [
    "import numpy as np"
   ]
  },
  {
   "cell_type": "code",
   "execution_count": 9,
   "id": "1e3230bd",
   "metadata": {},
   "outputs": [
    {
     "data": {
      "text/plain": [
       "array([[ 1,  2,  3,  4],\n",
       "       [ 5,  6,  7,  8],\n",
       "       [ 9, 10, 11, 12],\n",
       "       [13, 14, 15, 16]])"
      ]
     },
     "execution_count": 9,
     "metadata": {},
     "output_type": "execute_result"
    }
   ],
   "source": [
    "m = np.arange(1, 17).reshape(4,4)\n",
    "m"
   ]
  },
  {
   "cell_type": "code",
   "execution_count": 10,
   "id": "4fe267c3",
   "metadata": {},
   "outputs": [
    {
     "data": {
      "text/plain": [
       "38.67815921162743"
      ]
     },
     "execution_count": 10,
     "metadata": {},
     "output_type": "execute_result"
    }
   ],
   "source": [
    "np.linalg.norm(m, 'fro')"
   ]
  },
  {
   "cell_type": "code",
   "execution_count": 11,
   "id": "2252545b",
   "metadata": {},
   "outputs": [
    {
     "data": {
      "text/plain": [
       "inf"
      ]
     },
     "execution_count": 11,
     "metadata": {},
     "output_type": "execute_result"
    }
   ],
   "source": [
    "np.linalg.cond(m, 'fro')"
   ]
  },
  {
   "cell_type": "markdown",
   "id": "0a97dea7",
   "metadata": {},
   "source": [
    "video 2:"
   ]
  },
  {
   "cell_type": "code",
   "execution_count": 12,
   "id": "92963cca",
   "metadata": {},
   "outputs": [],
   "source": [
    "from numpy import sqrt"
   ]
  },
  {
   "cell_type": "code",
   "execution_count": 13,
   "id": "556a4bd2",
   "metadata": {},
   "outputs": [
    {
     "name": "stdout",
     "output_type": "stream",
     "text": [
      "Programa para el calculo de la norma infinito y frobenius para una matriz NxN\n"
     ]
    }
   ],
   "source": [
    "print(\"Programa para el calculo de la norma infinito y frobenius para una matriz NxN\")"
   ]
  },
  {
   "cell_type": "code",
   "execution_count": 14,
   "id": "ee372a3e",
   "metadata": {},
   "outputs": [
    {
     "name": "stdout",
     "output_type": "stream",
     "text": [
      "La matriz de N*N es: [[4 8 2 7 4 8 2]\n",
      " [2 1 4 2 4 4 1]\n",
      " [5 8 6 6 7 0 7]\n",
      " [4 6 7 3 3 6 7]\n",
      " [4 6 1 3 7 3 5]\n",
      " [6 7 6 7 1 0 7]\n",
      " [3 8 6 5 7 8 1]]\n"
     ]
    }
   ],
   "source": [
    "#Variables y matrices\n",
    "n = 7\n",
    "M = np.random.randint(9, size=(n,n))\n",
    "print('La matriz de N*N es:', M)"
   ]
  },
  {
   "cell_type": "code",
   "execution_count": 18,
   "id": "09c2cbae",
   "metadata": {},
   "outputs": [
    {
     "name": "stdout",
     "output_type": "stream",
     "text": [
      "n -> para columnas\n",
      "la norma de las columnas respectivamente es: [4 8 2 7 4 8 2]\n",
      "El valor maximo de las normas de las columnas es: 8\n"
     ]
    }
   ],
   "source": [
    "#lista\n",
    "sumatoria_columnas = []\n",
    "sumatoria_filas = []\n",
    "sumatoria_frobenius = []\n",
    "\n",
    "#Definir funciones para columnas:\n",
    "print(\"n -> para columnas\")\n",
    "def columna(n):\n",
    "    suma=0\n",
    "    for i in range(0,n):\n",
    "        y=M[i,:]\n",
    "        suma=abs(suma+y)\n",
    "        normac=suma\n",
    "        \n",
    "        sumatoria_columnas.append(i)\n",
    "        return normac\n",
    "    \n",
    "    print('normac', normac)\n",
    "    \n",
    "print('la norma de las columnas respectivamente es:', columna(n))\n",
    "\n",
    "#valor maximo de la norma\n",
    "maxcolumna=np.max(columna(n))\n",
    "print('El valor maximo de las normas de las columnas es:', maxcolumna)"
   ]
  },
  {
   "cell_type": "code",
   "execution_count": 33,
   "id": "396648c3",
   "metadata": {},
   "outputs": [
    {
     "name": "stdout",
     "output_type": "stream",
     "text": [
      "n -> para filas\n",
      "la norma de las filas respectivamente es:  [4 2 5 4 4 6 3]\n",
      "El valor maximo de las normas de las columnas es: 8\n"
     ]
    }
   ],
   "source": [
    "# definir función para filas\n",
    "print('n -> para filas')\n",
    "\n",
    "def fila(n):\n",
    "    suma=0\n",
    "    for j in range(0,n):\n",
    "        x=M[:,j]\n",
    "        suma=abs(suma+x)\n",
    "        normaf=suma\n",
    "        \n",
    "        sumatoria_filas.append(j)\n",
    "        \n",
    "        return normaf\n",
    "    \n",
    "print('la norma de las filas respectivamente es: ', fila(n))\n",
    "    \n",
    " #valor maximo de la norma\n",
    "maxfila=np.max(columna(n))\n",
    "print('El valor maximo de las normas de las columnas es:', maxfila)"
   ]
  },
  {
   "cell_type": "markdown",
   "id": "af0c6c49",
   "metadata": {},
   "source": [
    "Definir la norma de frobenius"
   ]
  },
  {
   "cell_type": "code",
   "execution_count": 36,
   "id": "321479b3",
   "metadata": {},
   "outputs": [
    {
     "name": "stdout",
     "output_type": "stream",
     "text": [
      "n -> norma de Frobenius\n",
      "la norma de frobenius respectivamente es:  4.0\n"
     ]
    }
   ],
   "source": [
    "print('n -> norma de Frobenius')\n",
    "def normfrobenius():\n",
    "    suma=0\n",
    "    for filas in M:\n",
    "        for elementos in filas:\n",
    "            cuadrado=elementos**2\n",
    "            suma += cuadrado\n",
    "            return sqrt(suma)\n",
    "        \n",
    "print('la norma de frobenius respectivamente es: ', normfrobenius())\n",
    "\n",
    "    "
   ]
  },
  {
   "cell_type": "markdown",
   "id": "56a9cbe4",
   "metadata": {},
   "source": [
    "Video 3."
   ]
  },
  {
   "cell_type": "code",
   "execution_count": 44,
   "id": "1dfbe1ec",
   "metadata": {},
   "outputs": [
    {
     "name": "stdout",
     "output_type": "stream",
     "text": [
      "[[2 3]\n",
      " [1 1]]\n"
     ]
    }
   ],
   "source": [
    "#Variables y matrices\n",
    "n = 2\n",
    "M = np.random.randint(4, size=(n,n))\n",
    "print(M)"
   ]
  },
  {
   "cell_type": "code",
   "execution_count": 41,
   "id": "040cf0b8",
   "metadata": {},
   "outputs": [
    {
     "data": {
      "text/plain": [
       "3.872983346207417"
      ]
     },
     "execution_count": 41,
     "metadata": {},
     "output_type": "execute_result"
    }
   ],
   "source": [
    "(3**2 + 1**2 + 1**2 + 2**2)**(1/2)"
   ]
  },
  {
   "cell_type": "markdown",
   "id": "809c2641",
   "metadata": {},
   "source": [
    "Norm using numpy directly"
   ]
  },
  {
   "cell_type": "code",
   "execution_count": 42,
   "id": "258cd3af",
   "metadata": {},
   "outputs": [
    {
     "data": {
      "text/plain": [
       "3.872983346207417"
      ]
     },
     "execution_count": 42,
     "metadata": {},
     "output_type": "execute_result"
    }
   ],
   "source": [
    "np.linalg.norm(M)"
   ]
  },
  {
   "cell_type": "markdown",
   "id": "64c54c5b",
   "metadata": {},
   "source": [
    "use torch.norm() if there's float type."
   ]
  }
 ],
 "metadata": {
  "kernelspec": {
   "display_name": "Python 3 (ipykernel)",
   "language": "python",
   "name": "python3"
  },
  "language_info": {
   "codemirror_mode": {
    "name": "ipython",
    "version": 3
   },
   "file_extension": ".py",
   "mimetype": "text/x-python",
   "name": "python",
   "nbconvert_exporter": "python",
   "pygments_lexer": "ipython3",
   "version": "3.9.13"
  }
 },
 "nbformat": 4,
 "nbformat_minor": 5
}
